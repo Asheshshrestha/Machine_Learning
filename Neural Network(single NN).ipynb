{
 "cells": [
  {
   "cell_type": "code",
   "execution_count": 1,
   "metadata": {},
   "outputs": [],
   "source": [
    "# Python program to implement a  \n",
    "# single neuron neural network \n",
    "  \n",
    "# import all necessery libraries \n",
    "from numpy import exp, array, random, dot, tanh \n",
    "  \n",
    "# Class to create a neural  \n",
    "# network with single neuron \n",
    "class NeuralNetwork(): \n",
    "      \n",
    "    def __init__(self): \n",
    "          \n",
    "        # Using seed to make sure it'll   \n",
    "        # generate same weights in every run \n",
    "        random.seed(1) \n",
    "          \n",
    "        # 3x1 Weight matrix \n",
    "        self.weight_matrix = 2 * random.random((3, 1)) - 1\n",
    "  \n",
    "    # tanh as activation fucntion \n",
    "    def tanh(self, x): \n",
    "        return tanh(x) \n",
    "  \n",
    "    # derivative of tanh function. \n",
    "    # Needed to calculate the gradients. \n",
    "    def tanh_derivative(self, x): \n",
    "        return 1.0 - tanh(x) ** 2\n",
    "  \n",
    "    # forward propagation \n",
    "    def forward_propagation(self, inputs): \n",
    "        return self.tanh(dot(inputs, self.weight_matrix)) \n",
    "      \n",
    "    # training the neural network. \n",
    "    def train(self, train_inputs, train_outputs, \n",
    "                            num_train_iterations): \n",
    "                                  \n",
    "        # Number of iterations we want to \n",
    "        # perform for this set of input. \n",
    "        for iteration in range(num_train_iterations): \n",
    "            output = self.forward_propagation(train_inputs) \n",
    "  \n",
    "            # Calculate the error in the output. \n",
    "            error = train_outputs - output \n",
    "  \n",
    "            # multiply the error by input and then  \n",
    "            # by gradient of tanh funtion to calculate \n",
    "            # the adjustment needs to be made in weights \n",
    "            adjustment = dot(train_inputs.T, error *\n",
    "                             self.tanh_derivative(output)) \n",
    "                               \n",
    "            # Adjust the weight matrix \n",
    "            self.weight_matrix += adjustment "
   ]
  },
  {
   "cell_type": "code",
   "execution_count": 2,
   "metadata": {},
   "outputs": [],
   "source": [
    "neural_network = NeuralNetwork()"
   ]
  },
  {
   "cell_type": "markdown",
   "metadata": {},
   "source": [
    "## Random weights at the start of training "
   ]
  },
  {
   "cell_type": "code",
   "execution_count": 3,
   "metadata": {},
   "outputs": [
    {
     "data": {
      "text/plain": [
       "array([[-0.16595599],\n",
       "       [ 0.44064899],\n",
       "       [-0.99977125]])"
      ]
     },
     "execution_count": 3,
     "metadata": {},
     "output_type": "execute_result"
    }
   ],
   "source": [
    "neural_network.weight_matrix"
   ]
  },
  {
   "cell_type": "code",
   "execution_count": 4,
   "metadata": {},
   "outputs": [],
   "source": [
    "train_inputs = array([[0, 0, 1], [1, 1, 1], [1, 0, 1], [0, 1, 1]]) \n",
    "train_outputs = array([[0, 1, 1, 0]]).T \n"
   ]
  },
  {
   "cell_type": "code",
   "execution_count": 5,
   "metadata": {},
   "outputs": [],
   "source": [
    "neural_network.train(train_inputs, train_outputs,10000)"
   ]
  },
  {
   "cell_type": "markdown",
   "metadata": {},
   "source": [
    "## New weight after training "
   ]
  },
  {
   "cell_type": "code",
   "execution_count": 6,
   "metadata": {},
   "outputs": [
    {
     "data": {
      "text/plain": [
       "array([[5.39428067],\n",
       "       [0.19482422],\n",
       "       [0.34317086]])"
      ]
     },
     "execution_count": 6,
     "metadata": {},
     "output_type": "execute_result"
    }
   ],
   "source": [
    "neural_network.weight_matrix"
   ]
  },
  {
   "cell_type": "markdown",
   "metadata": {},
   "source": [
    "## Testing network on new examples -> "
   ]
  },
  {
   "cell_type": "code",
   "execution_count": 7,
   "metadata": {},
   "outputs": [
    {
     "data": {
      "text/plain": [
       "array([0.99995873])"
      ]
     },
     "execution_count": 7,
     "metadata": {},
     "output_type": "execute_result"
    }
   ],
   "source": [
    "neural_network.forward_propagation(array([1,0,0]))"
   ]
  },
  {
   "cell_type": "code",
   "execution_count": null,
   "metadata": {},
   "outputs": [],
   "source": []
  }
 ],
 "metadata": {
  "kernelspec": {
   "display_name": "Python 3",
   "language": "python",
   "name": "python3"
  },
  "language_info": {
   "codemirror_mode": {
    "name": "ipython",
    "version": 3
   },
   "file_extension": ".py",
   "mimetype": "text/x-python",
   "name": "python",
   "nbconvert_exporter": "python",
   "pygments_lexer": "ipython3",
   "version": "3.7.4"
  }
 },
 "nbformat": 4,
 "nbformat_minor": 2
}
